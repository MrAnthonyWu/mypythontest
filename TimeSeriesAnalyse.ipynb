{
 "cells": [
  {
   "cell_type": "code",
   "execution_count": 1,
   "metadata": {},
   "outputs": [],
   "source": [
    "import pandas as pd"
   ]
  },
  {
   "cell_type": "code",
   "execution_count": 7,
   "metadata": {},
   "outputs": [
    {
     "data": {
      "text/html": [
       "<div>\n",
       "<style scoped>\n",
       "    .dataframe tbody tr th:only-of-type {\n",
       "        vertical-align: middle;\n",
       "    }\n",
       "\n",
       "    .dataframe tbody tr th {\n",
       "        vertical-align: top;\n",
       "    }\n",
       "\n",
       "    .dataframe thead th {\n",
       "        text-align: right;\n",
       "    }\n",
       "</style>\n",
       "<table border=\"1\" class=\"dataframe\">\n",
       "  <thead>\n",
       "    <tr style=\"text-align: right;\">\n",
       "      <th></th>\n",
       "      <th>Open</th>\n",
       "      <th>High</th>\n",
       "      <th>Low</th>\n",
       "      <th>Close</th>\n",
       "      <th>Adj Close</th>\n",
       "      <th>Volume</th>\n",
       "    </tr>\n",
       "    <tr>\n",
       "      <th>Date</th>\n",
       "      <th></th>\n",
       "      <th></th>\n",
       "      <th></th>\n",
       "      <th></th>\n",
       "      <th></th>\n",
       "      <th></th>\n",
       "    </tr>\n",
       "  </thead>\n",
       "  <tbody>\n",
       "    <tr>\n",
       "      <th>2019-10-21</th>\n",
       "      <td>7.81</td>\n",
       "      <td>7.90</td>\n",
       "      <td>7.795</td>\n",
       "      <td>7.85</td>\n",
       "      <td>7.532441</td>\n",
       "      <td>4815269</td>\n",
       "    </tr>\n",
       "    <tr>\n",
       "      <th>2019-10-22</th>\n",
       "      <td>7.88</td>\n",
       "      <td>7.95</td>\n",
       "      <td>7.880</td>\n",
       "      <td>7.89</td>\n",
       "      <td>7.570823</td>\n",
       "      <td>2578125</td>\n",
       "    </tr>\n",
       "    <tr>\n",
       "      <th>2019-10-23</th>\n",
       "      <td>7.91</td>\n",
       "      <td>7.99</td>\n",
       "      <td>7.860</td>\n",
       "      <td>7.90</td>\n",
       "      <td>7.580419</td>\n",
       "      <td>3480048</td>\n",
       "    </tr>\n",
       "    <tr>\n",
       "      <th>2019-10-24</th>\n",
       "      <td>7.98</td>\n",
       "      <td>8.03</td>\n",
       "      <td>7.920</td>\n",
       "      <td>7.94</td>\n",
       "      <td>7.618800</td>\n",
       "      <td>2642665</td>\n",
       "    </tr>\n",
       "    <tr>\n",
       "      <th>2019-10-25</th>\n",
       "      <td>7.99</td>\n",
       "      <td>8.02</td>\n",
       "      <td>7.940</td>\n",
       "      <td>7.97</td>\n",
       "      <td>7.647586</td>\n",
       "      <td>3121010</td>\n",
       "    </tr>\n",
       "  </tbody>\n",
       "</table>\n",
       "</div>"
      ],
      "text/plain": [
       "            Open  High    Low  Close  Adj Close   Volume\n",
       "Date                                                    \n",
       "2019-10-21  7.81  7.90  7.795   7.85   7.532441  4815269\n",
       "2019-10-22  7.88  7.95  7.880   7.89   7.570823  2578125\n",
       "2019-10-23  7.91  7.99  7.860   7.90   7.580419  3480048\n",
       "2019-10-24  7.98  8.03  7.920   7.94   7.618800  2642665\n",
       "2019-10-25  7.99  8.02  7.940   7.97   7.647586  3121010"
      ]
     },
     "execution_count": 7,
     "metadata": {},
     "output_type": "execute_result"
    }
   ],
   "source": [
    "df = pd.read_csv(\"ORG.AX.csv\",parse_dates=[\"Date\"],index_col=\"Date\")\n",
    "df.head(5)"
   ]
  },
  {
   "cell_type": "code",
   "execution_count": 8,
   "metadata": {},
   "outputs": [
    {
     "data": {
      "text/plain": [
       "DatetimeIndex(['2019-10-21', '2019-10-22', '2019-10-23', '2019-10-24',\n",
       "               '2019-10-25', '2019-10-28', '2019-10-29', '2019-10-30',\n",
       "               '2019-10-31', '2019-11-01',\n",
       "               ...\n",
       "               '2020-10-08', '2020-10-09', '2020-10-12', '2020-10-13',\n",
       "               '2020-10-14', '2020-10-15', '2020-10-16', '2020-10-19',\n",
       "               '2020-10-20', '2020-10-21'],\n",
       "              dtype='datetime64[ns]', name='Date', length=256, freq=None)"
      ]
     },
     "execution_count": 8,
     "metadata": {},
     "output_type": "execute_result"
    }
   ],
   "source": [
    "df.index"
   ]
  },
  {
   "cell_type": "code",
   "execution_count": 13,
   "metadata": {},
   "outputs": [
    {
     "data": {
      "text/plain": [
       "Open         5.910340e+00\n",
       "High         5.990874e+00\n",
       "Low          5.814417e+00\n",
       "Close        5.896893e+00\n",
       "Adj Close    5.762203e+00\n",
       "Volume       6.953172e+06\n",
       "dtype: float64"
      ]
     },
     "execution_count": 13,
     "metadata": {},
     "output_type": "execute_result"
    }
   ],
   "source": [
    "df[\"2020\"].mean()"
   ]
  },
  {
   "cell_type": "code",
   "execution_count": 14,
   "metadata": {},
   "outputs": [
    {
     "data": {
      "text/plain": [
       "Open         8.144390e+00\n",
       "High         8.201098e+00\n",
       "Low          8.062439e+00\n",
       "Close        8.121220e+00\n",
       "Adj Close    7.792689e+00\n",
       "Volume       6.143052e+06\n",
       "dtype: float64"
      ]
     },
     "execution_count": 14,
     "metadata": {},
     "output_type": "execute_result"
    }
   ],
   "source": [
    "df[\"2020-01\":'2020-02'].mean()"
   ]
  },
  {
   "cell_type": "code",
   "execution_count": 16,
   "metadata": {},
   "outputs": [
    {
     "data": {
      "text/plain": [
       "<pandas.plotting._core.PlotAccessor object at 0x10F6D568>"
      ]
     },
     "execution_count": 16,
     "metadata": {},
     "output_type": "execute_result"
    }
   ],
   "source": [
    "df.Close.resample(\"M\").mean().plot"
   ]
  },
  {
   "cell_type": "code",
   "execution_count": 17,
   "metadata": {},
   "outputs": [],
   "source": [
    "%matplotlib inline"
   ]
  },
  {
   "cell_type": "code",
   "execution_count": 21,
   "metadata": {},
   "outputs": [
    {
     "data": {
      "text/plain": [
       "<AxesSubplot:xlabel='Date'>"
      ]
     },
     "execution_count": 21,
     "metadata": {},
     "output_type": "execute_result"
    },
    {
     "data": {
      "image/png": "[encoded data removed]",
      "text/plain": [
       "<Figure size 432x288 with 1 Axes>"
      ]
     },
     "metadata": {
      "needs_background": "light"
     },
     "output_type": "display_data"
    }
   ],
   "source": [
    "df.Close.resample(\"D\").mean().plot()"
   ]
  },
  {
   "cell_type": "code",
   "execution_count": 23,
   "metadata": {},
   "outputs": [
    {
     "data": {
      "text/html": [
       "<div>\n",
       "<style scoped>\n",
       "    .dataframe tbody tr th:only-of-type {\n",
       "        vertical-align: middle;\n",
       "    }\n",
       "\n",
       "    .dataframe tbody tr th {\n",
       "        vertical-align: top;\n",
       "    }\n",
       "\n",
       "    .dataframe thead th {\n",
       "        text-align: right;\n",
       "    }\n",
       "</style>\n",
       "<table border=\"1\" class=\"dataframe\">\n",
       "  <thead>\n",
       "    <tr style=\"text-align: right;\">\n",
       "      <th></th>\n",
       "      <th>Open</th>\n",
       "      <th>High</th>\n",
       "      <th>Low</th>\n",
       "      <th>Close</th>\n",
       "      <th>Adj Close</th>\n",
       "      <th>Volume</th>\n",
       "    </tr>\n",
       "    <tr>\n",
       "      <th>Date</th>\n",
       "      <th></th>\n",
       "      <th></th>\n",
       "      <th></th>\n",
       "      <th></th>\n",
       "      <th></th>\n",
       "      <th></th>\n",
       "    </tr>\n",
       "  </thead>\n",
       "  <tbody>\n",
       "    <tr>\n",
       "      <th>2019-10-21 00:00:00</th>\n",
       "      <td>7.81</td>\n",
       "      <td>7.90</td>\n",
       "      <td>7.795</td>\n",
       "      <td>7.85</td>\n",
       "      <td>7.532441</td>\n",
       "      <td>4815269</td>\n",
       "    </tr>\n",
       "    <tr>\n",
       "      <th>2019-10-21 01:00:00</th>\n",
       "      <td>7.81</td>\n",
       "      <td>7.90</td>\n",
       "      <td>7.795</td>\n",
       "      <td>7.85</td>\n",
       "      <td>7.532441</td>\n",
       "      <td>4815269</td>\n",
       "    </tr>\n",
       "    <tr>\n",
       "      <th>2019-10-21 02:00:00</th>\n",
       "      <td>7.81</td>\n",
       "      <td>7.90</td>\n",
       "      <td>7.795</td>\n",
       "      <td>7.85</td>\n",
       "      <td>7.532441</td>\n",
       "      <td>4815269</td>\n",
       "    </tr>\n",
       "    <tr>\n",
       "      <th>2019-10-21 03:00:00</th>\n",
       "      <td>7.81</td>\n",
       "      <td>7.90</td>\n",
       "      <td>7.795</td>\n",
       "      <td>7.85</td>\n",
       "      <td>7.532441</td>\n",
       "      <td>4815269</td>\n",
       "    </tr>\n",
       "    <tr>\n",
       "      <th>2019-10-21 04:00:00</th>\n",
       "      <td>7.81</td>\n",
       "      <td>7.90</td>\n",
       "      <td>7.795</td>\n",
       "      <td>7.85</td>\n",
       "      <td>7.532441</td>\n",
       "      <td>4815269</td>\n",
       "    </tr>\n",
       "    <tr>\n",
       "      <th>...</th>\n",
       "      <td>...</td>\n",
       "      <td>...</td>\n",
       "      <td>...</td>\n",
       "      <td>...</td>\n",
       "      <td>...</td>\n",
       "      <td>...</td>\n",
       "    </tr>\n",
       "    <tr>\n",
       "      <th>2020-10-20 20:00:00</th>\n",
       "      <td>4.50</td>\n",
       "      <td>4.54</td>\n",
       "      <td>4.450</td>\n",
       "      <td>4.46</td>\n",
       "      <td>4.460000</td>\n",
       "      <td>7556267</td>\n",
       "    </tr>\n",
       "    <tr>\n",
       "      <th>2020-10-20 21:00:00</th>\n",
       "      <td>4.50</td>\n",
       "      <td>4.54</td>\n",
       "      <td>4.450</td>\n",
       "      <td>4.46</td>\n",
       "      <td>4.460000</td>\n",
       "      <td>7556267</td>\n",
       "    </tr>\n",
       "    <tr>\n",
       "      <th>2020-10-20 22:00:00</th>\n",
       "      <td>4.50</td>\n",
       "      <td>4.54</td>\n",
       "      <td>4.450</td>\n",
       "      <td>4.46</td>\n",
       "      <td>4.460000</td>\n",
       "      <td>7556267</td>\n",
       "    </tr>\n",
       "    <tr>\n",
       "      <th>2020-10-20 23:00:00</th>\n",
       "      <td>4.50</td>\n",
       "      <td>4.54</td>\n",
       "      <td>4.450</td>\n",
       "      <td>4.46</td>\n",
       "      <td>4.460000</td>\n",
       "      <td>7556267</td>\n",
       "    </tr>\n",
       "    <tr>\n",
       "      <th>2020-10-21 00:00:00</th>\n",
       "      <td>4.47</td>\n",
       "      <td>4.54</td>\n",
       "      <td>4.470</td>\n",
       "      <td>4.50</td>\n",
       "      <td>4.500000</td>\n",
       "      <td>2319916</td>\n",
       "    </tr>\n",
       "  </tbody>\n",
       "</table>\n",
       "<p>8785 rows × 6 columns</p>\n",
       "</div>"
      ],
      "text/plain": [
       "                     Open  High    Low  Close  Adj Close   Volume\n",
       "Date                                                             \n",
       "2019-10-21 00:00:00  7.81  7.90  7.795   7.85   7.532441  4815269\n",
       "2019-10-21 01:00:00  7.81  7.90  7.795   7.85   7.532441  4815269\n",
       "2019-10-21 02:00:00  7.81  7.90  7.795   7.85   7.532441  4815269\n",
       "2019-10-21 03:00:00  7.81  7.90  7.795   7.85   7.532441  4815269\n",
       "2019-10-21 04:00:00  7.81  7.90  7.795   7.85   7.532441  4815269\n",
       "...                   ...   ...    ...    ...        ...      ...\n",
       "2020-10-20 20:00:00  4.50  4.54  4.450   4.46   4.460000  7556267\n",
       "2020-10-20 21:00:00  4.50  4.54  4.450   4.46   4.460000  7556267\n",
       "2020-10-20 22:00:00  4.50  4.54  4.450   4.46   4.460000  7556267\n",
       "2020-10-20 23:00:00  4.50  4.54  4.450   4.46   4.460000  7556267\n",
       "2020-10-21 00:00:00  4.47  4.54  4.470   4.50   4.500000  2319916\n",
       "\n",
       "[8785 rows x 6 columns]"
      ]
     },
     "execution_count": 23,
     "metadata": {},
     "output_type": "execute_result"
    }
   ],
   "source": [
    "df.asfreq(\"H\",method=\"pad\")"
   ]
  },
  {
   "cell_type": "code",
   "execution_count": 24,
   "metadata": {},
   "outputs": [],
   "source": [
    "rng = pd.date_range(start=\"2020-01-01\",periods=200, freq=\"B\")"
   ]
  },
  {
   "cell_type": "code",
   "execution_count": 25,
   "metadata": {},
   "outputs": [
    {
     "data": {
      "text/plain": [
       "DatetimeIndex(['2020-01-01', '2020-01-02', '2020-01-03', '2020-01-06',\n",
       "               '2020-01-07', '2020-01-08', '2020-01-09', '2020-01-10',\n",
       "               '2020-01-13', '2020-01-14',\n",
       "               ...\n",
       "               '2020-09-23', '2020-09-24', '2020-09-25', '2020-09-28',\n",
       "               '2020-09-29', '2020-09-30', '2020-10-01', '2020-10-02',\n",
       "               '2020-10-05', '2020-10-06'],\n",
       "              dtype='datetime64[ns]', length=200, freq='B')"
      ]
     },
     "execution_count": 25,
     "metadata": {},
     "output_type": "execute_result"
    }
   ],
   "source": [
    "rng"
   ]
  },
  {
   "cell_type": "code",
   "execution_count": 29,
   "metadata": {},
   "outputs": [
    {
     "data": {
      "text/plain": [
       "2020-01-01    11\n",
       "2020-01-02    16\n",
       "2020-01-03     9\n",
       "2020-01-06     1\n",
       "2020-01-07    18\n",
       "              ..\n",
       "2020-09-30    13\n",
       "2020-10-01    15\n",
       "2020-10-02     6\n",
       "2020-10-05     8\n",
       "2020-10-06    11\n",
       "Freq: B, Length: 200, dtype: int32"
      ]
     },
     "execution_count": 29,
     "metadata": {},
     "output_type": "execute_result"
    }
   ],
   "source": [
    "import numpy as np\n",
    "\n",
    "ps = pd.Series(np.random.randint(0,20,len(rng)), index=rng)\n",
    "ps\n"
   ]
  },
  {
   "cell_type": "code",
   "execution_count": 39,
   "metadata": {},
   "outputs": [
    {
     "name": "stdout",
     "output_type": "stream",
     "text": [
      "2020-05-01 00:00:00\n"
     ]
    }
   ],
   "source": [
    "dates=[\"2020-01-05\",\"2020-05-06\"]\n",
    "dates2=pd.to_datetime(\"01/05/2020\",dayfirst=True)\n",
    "print(dates2)"
   ]
  },
  {
   "cell_type": "code",
   "execution_count": null,
   "metadata": {},
   "outputs": [],
   "source": []
  },
  {
   "cell_type": "code",
   "execution_count": null,
   "metadata": {},
   "outputs": [],
   "source": []
  }
 ],
 "metadata": {
  "kernelspec": {
   "display_name": "Python 3",
   "language": "python",
   "name": "python3"
  },
  "language_info": {
   "codemirror_mode": {
    "name": "ipython",
    "version": 3
   },
   "file_extension": ".py",
   "mimetype": "text/x-python",
   "name": "python",
   "nbconvert_exporter": "python",
   "pygments_lexer": "ipython3",
   "version": "3.8.3"
  }
 },
 "nbformat": 4,
 "nbformat_minor": 4
}
