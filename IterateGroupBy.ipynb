{
 "cells": [
  {
   "cell_type": "code",
   "execution_count": 40,
   "metadata": {},
   "outputs": [],
   "source": [
    "import pandas as pd\n",
    "import numpy as np\n",
    "data = pd.read_csv(\"animal.csv\")\n",
    "data.head(10)\n",
    "\n",
    "grouped = data.groupby(\"class\")\n",
    "\n"
   ]
  },
  {
   "cell_type": "code",
   "execution_count": 52,
   "metadata": {},
   "outputs": [
    {
     "name": "stdout",
     "output_type": "stream",
     "text": [
      "---------bird------\n",
      "---------mammal------\n",
      "---------plant------\n",
      "['bird', 'mammal', 'plant']\n",
      "['Falconiformes|Psittaciformes', 'Carnivora|Primates|Carnivora', 'rose']\n"
     ]
    }
   ],
   "source": [
    "name_list=[]\n",
    "order_list=[]\n",
    "\n",
    "for name, group in grouped:\n",
    "    print(\"---------\"+name+\"------\")\n",
    "    name_list.append(name)\n",
    "    ddd=\"\"\n",
    "    for s in group[\"order\"]:\n",
    "        if(len(ddd)>0):\n",
    "            ddd=ddd+\"|\"+s\n",
    "        else:\n",
    "            ddd=s\n",
    "    order_list.append(ddd)\n",
    "    \n",
    "print(name_list)\n",
    "print(order_list)"
   ]
  },
  {
   "cell_type": "code",
   "execution_count": 57,
   "metadata": {},
   "outputs": [],
   "source": [
    "grouped_data={\"class\":name_list,\"grouped_order\":order_list}\n",
    "df=pd.DataFrame(grouped_data)\n",
    "df.to_csv(\"grouped_data.csv\")"
   ]
  },
  {
   "cell_type": "code",
   "execution_count": null,
   "metadata": {},
   "outputs": [],
   "source": []
  },
  {
   "cell_type": "code",
   "execution_count": null,
   "metadata": {},
   "outputs": [],
   "source": []
  },
  {
   "cell_type": "code",
   "execution_count": null,
   "metadata": {},
   "outputs": [],
   "source": []
  },
  {
   "cell_type": "code",
   "execution_count": null,
   "metadata": {},
   "outputs": [],
   "source": []
  }
 ],
 "metadata": {
  "kernelspec": {
   "display_name": "Python 3",
   "language": "python",
   "name": "python3"
  },
  "language_info": {
   "codemirror_mode": {
    "name": "ipython",
    "version": 3
   },
   "file_extension": ".py",
   "mimetype": "text/x-python",
   "name": "python",
   "nbconvert_exporter": "python",
   "pygments_lexer": "ipython3",
   "version": "3.8.3"
  }
 },
 "nbformat": 4,
 "nbformat_minor": 4
}
